{
 "cells": [
  {
   "cell_type": "markdown",
   "metadata": {},
   "source": [
    "# Physics 91SI: Lab 3\n",
    "\n",
    "Part 1\n",
    "------"
   ]
  },
  {
   "cell_type": "code",
   "execution_count": 1,
   "metadata": {},
   "outputs": [],
   "source": [
    "# Don't edit this function\n",
    "def load_sample():\n",
    "    \"\"\"Return the entire text of Hamlet in a string.\"\"\"\n",
    "    with open('hamlet.txt') as f:\n",
    "        sample = f.read()\n",
    "    return sample"
   ]
  },
  {
   "cell_type": "code",
   "execution_count": 65,
   "metadata": {
    "scrolled": true
   },
   "outputs": [],
   "source": [
    "# Edit this function. \"pass\" tells Python to do nothing.\n",
    "import string\n",
    "def parse_sample(file, words_only = False, sort_list = False): \n",
    "    punct = set(string.punctuation)\n",
    "    word_list = []\n",
    "    with open(file, 'r') as f:\n",
    "        for line in f:\n",
    "            word=\"\"\n",
    "            for letter in line:\n",
    "                if letter==' ' or letter=='\\n':\n",
    "                    if(word!=\"\"):\n",
    "                        word_list.append(word)\n",
    "                        word=\"\"\n",
    "                else:\n",
    "                    if words_only:\n",
    "                        if letter not in punct:\n",
    "                            letter=letter.lower()\n",
    "                            word+=letter\n",
    "            if word!=\"\":\n",
    "                word_list.append(word)\n",
    "        if sort_list:\n",
    "            word_list.sort()\n",
    "    return word_list\n",
    "\n",
    "\n",
    "        "
   ]
  },
  {
   "cell_type": "markdown",
   "metadata": {},
   "source": [
    "Part 2\n",
    "------"
   ]
  },
  {
   "cell_type": "code",
   "execution_count": 68,
   "metadata": {},
   "outputs": [],
   "source": [
    "import numpy as np\n",
    "def count_freq(lst):\n",
    "    freq_dict = {}\n",
    "    word_list=parse_sample(lst, True, True)\n",
    "    word_set=set()\n",
    "    l=len(word_list)\n",
    "    for i in range (0, l):\n",
    "        if word_list[i] not in word_set:\n",
    "            freq_dict[word_list[i]]=1\n",
    "            word_set.add(word_list[i])\n",
    "        else:\n",
    "            freq_dict[word_list[i]]+=1\n",
    "    return freq_dict\n",
    "\n",
    "def mean(lst):\n",
    "    return np.mean(list(count_freq(lst).values()))\n",
    "\n",
    "def stdev(lst):\n",
    "    return np.std(list(count_freq(lst).values()))\n",
    "\n",
    "def median(lst):\n",
    "    return np.median(list(count_freq(lst).values()))\n"
   ]
  },
  {
   "cell_type": "markdown",
   "metadata": {},
   "source": [
    "Part 3\n",
    "------"
   ]
  },
  {
   "cell_type": "code",
   "execution_count": 71,
   "metadata": {},
   "outputs": [
    {
     "name": "stdout",
     "output_type": "stream",
     "text": [
      "Average word frequency:  6.714735516372796 \n",
      "Standard deviation of word frequency:  37.81124217416992 \n",
      "Median word frequency:  1.0\n"
     ]
    }
   ],
   "source": [
    "def print_stats(lst):\n",
    "    print(\"Average word frequency: \",mean(lst), \"\\nStandard deviation of word frequency: \",stdev(lst),\"\\nMedian word frequency: \",median(lst))\n",
    "\n",
    "print_stats(\"hamlet.txt\")"
   ]
  }
 ],
 "metadata": {
  "kernelspec": {
   "display_name": "Python [conda env:py36]",
   "language": "python",
   "name": "conda-env-py36-py"
  },
  "language_info": {
   "codemirror_mode": {
    "name": "ipython",
    "version": 3
   },
   "file_extension": ".py",
   "mimetype": "text/x-python",
   "name": "python",
   "nbconvert_exporter": "python",
   "pygments_lexer": "ipython3",
   "version": "3.6.4"
  }
 },
 "nbformat": 4,
 "nbformat_minor": 1
}
